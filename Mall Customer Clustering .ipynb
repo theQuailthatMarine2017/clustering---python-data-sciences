{
 "cells": [
  {
   "cell_type": "markdown",
   "metadata": {},
   "source": [
    "# Mall Customers Segmentation - Age / Spending Score"
   ]
  },
  {
   "cell_type": "code",
   "execution_count": 1,
   "metadata": {},
   "outputs": [],
   "source": [
    "import numpy as np\n",
    "import pandas as pd\n",
    "import matplotlib.pyplot as plt\n",
    "import seaborn as sns\n",
    "sns.set()\n",
    "from sklearn.cluster import KMeans"
   ]
  },
  {
   "cell_type": "code",
   "execution_count": 43,
   "metadata": {},
   "outputs": [
    {
     "data": {
      "text/html": [
       "<div>\n",
       "<style scoped>\n",
       "    .dataframe tbody tr th:only-of-type {\n",
       "        vertical-align: middle;\n",
       "    }\n",
       "\n",
       "    .dataframe tbody tr th {\n",
       "        vertical-align: top;\n",
       "    }\n",
       "\n",
       "    .dataframe thead th {\n",
       "        text-align: right;\n",
       "    }\n",
       "</style>\n",
       "<table border=\"1\" class=\"dataframe\">\n",
       "  <thead>\n",
       "    <tr style=\"text-align: right;\">\n",
       "      <th></th>\n",
       "      <th>CustomerID</th>\n",
       "      <th>Gender</th>\n",
       "      <th>Age</th>\n",
       "      <th>Annual Income (k$)</th>\n",
       "      <th>Spending Score (1-100)</th>\n",
       "    </tr>\n",
       "  </thead>\n",
       "  <tbody>\n",
       "    <tr>\n",
       "      <th>0</th>\n",
       "      <td>1</td>\n",
       "      <td>Male</td>\n",
       "      <td>19</td>\n",
       "      <td>15</td>\n",
       "      <td>39</td>\n",
       "    </tr>\n",
       "    <tr>\n",
       "      <th>1</th>\n",
       "      <td>2</td>\n",
       "      <td>Male</td>\n",
       "      <td>21</td>\n",
       "      <td>15</td>\n",
       "      <td>81</td>\n",
       "    </tr>\n",
       "    <tr>\n",
       "      <th>2</th>\n",
       "      <td>3</td>\n",
       "      <td>Female</td>\n",
       "      <td>20</td>\n",
       "      <td>16</td>\n",
       "      <td>6</td>\n",
       "    </tr>\n",
       "    <tr>\n",
       "      <th>3</th>\n",
       "      <td>4</td>\n",
       "      <td>Female</td>\n",
       "      <td>23</td>\n",
       "      <td>16</td>\n",
       "      <td>77</td>\n",
       "    </tr>\n",
       "    <tr>\n",
       "      <th>4</th>\n",
       "      <td>5</td>\n",
       "      <td>Female</td>\n",
       "      <td>31</td>\n",
       "      <td>17</td>\n",
       "      <td>40</td>\n",
       "    </tr>\n",
       "  </tbody>\n",
       "</table>\n",
       "</div>"
      ],
      "text/plain": [
       "   CustomerID  Gender  Age  Annual Income (k$)  Spending Score (1-100)\n",
       "0           1    Male   19                  15                      39\n",
       "1           2    Male   21                  15                      81\n",
       "2           3  Female   20                  16                       6\n",
       "3           4  Female   23                  16                      77\n",
       "4           5  Female   31                  17                      40"
      ]
     },
     "execution_count": 43,
     "metadata": {},
     "output_type": "execute_result"
    }
   ],
   "source": [
    "data = pd.read_csv ('Mall_Customers.csv')\n",
    "\n",
    "data.head()"
   ]
  },
  {
   "cell_type": "code",
   "execution_count": 45,
   "metadata": {},
   "outputs": [
    {
     "data": {
      "text/plain": [
       "Text(0,0.5,'Spending Score(1-100)')"
      ]
     },
     "execution_count": 45,
     "metadata": {},
     "output_type": "execute_result"
    },
    {
     "data": {
      "image/png": "[encoded data removed]",
      "text/plain": [
       "<Figure size 432x288 with 1 Axes>"
      ]
     },
     "metadata": {},
     "output_type": "display_data"
    }
   ],
   "source": [
    "plt.scatter(data['Age'],data['Spending Score (1-100)'])\n",
    "plt.xlabel('Age')\n",
    "plt.ylabel('Spending Score(1-100)')"
   ]
  },
  {
   "cell_type": "code",
   "execution_count": 5,
   "metadata": {},
   "outputs": [
    {
     "data": {
      "text/html": [
       "<div>\n",
       "<style scoped>\n",
       "    .dataframe tbody tr th:only-of-type {\n",
       "        vertical-align: middle;\n",
       "    }\n",
       "\n",
       "    .dataframe tbody tr th {\n",
       "        vertical-align: top;\n",
       "    }\n",
       "\n",
       "    .dataframe thead th {\n",
       "        text-align: right;\n",
       "    }\n",
       "</style>\n",
       "<table border=\"1\" class=\"dataframe\">\n",
       "  <thead>\n",
       "    <tr style=\"text-align: right;\">\n",
       "      <th></th>\n",
       "      <th>Age</th>\n",
       "      <th>Spending Score (1-100)</th>\n",
       "    </tr>\n",
       "  </thead>\n",
       "  <tbody>\n",
       "    <tr>\n",
       "      <th>0</th>\n",
       "      <td>19</td>\n",
       "      <td>39</td>\n",
       "    </tr>\n",
       "    <tr>\n",
       "      <th>1</th>\n",
       "      <td>21</td>\n",
       "      <td>81</td>\n",
       "    </tr>\n",
       "    <tr>\n",
       "      <th>2</th>\n",
       "      <td>20</td>\n",
       "      <td>6</td>\n",
       "    </tr>\n",
       "    <tr>\n",
       "      <th>3</th>\n",
       "      <td>23</td>\n",
       "      <td>77</td>\n",
       "    </tr>\n",
       "    <tr>\n",
       "      <th>4</th>\n",
       "      <td>31</td>\n",
       "      <td>40</td>\n",
       "    </tr>\n",
       "  </tbody>\n",
       "</table>\n",
       "</div>"
      ],
      "text/plain": [
       "   Age  Spending Score (1-100)\n",
       "0   19                      39\n",
       "1   21                      81\n",
       "2   20                       6\n",
       "3   23                      77\n",
       "4   31                      40"
      ]
     },
     "execution_count": 5,
     "metadata": {},
     "output_type": "execute_result"
    }
   ],
   "source": [
    "data = data[['Age','Spending Score (1-100)']]\n",
    "\n",
    "data.head()"
   ]
  },
  {
   "cell_type": "code",
   "execution_count": 6,
   "metadata": {},
   "outputs": [],
   "source": [
    "x = data.copy()"
   ]
  },
  {
   "cell_type": "code",
   "execution_count": 39,
   "metadata": {},
   "outputs": [
    {
     "data": {
      "text/plain": [
       "KMeans(algorithm='auto', copy_x=True, init='k-means++', max_iter=300,\n",
       "    n_clusters=4, n_init=10, n_jobs=1, precompute_distances='auto',\n",
       "    random_state=None, tol=0.0001, verbose=0)"
      ]
     },
     "execution_count": 39,
     "metadata": {},
     "output_type": "execute_result"
    }
   ],
   "source": [
    "kmeans = KMeans(4)\n",
    "kmeans.fit(x)"
   ]
  },
  {
   "cell_type": "code",
   "execution_count": 40,
   "metadata": {},
   "outputs": [
    {
     "data": {
      "text/html": [
       "<div>\n",
       "<style scoped>\n",
       "    .dataframe tbody tr th:only-of-type {\n",
       "        vertical-align: middle;\n",
       "    }\n",
       "\n",
       "    .dataframe tbody tr th {\n",
       "        vertical-align: top;\n",
       "    }\n",
       "\n",
       "    .dataframe thead th {\n",
       "        text-align: right;\n",
       "    }\n",
       "</style>\n",
       "<table border=\"1\" class=\"dataframe\">\n",
       "  <thead>\n",
       "    <tr style=\"text-align: right;\">\n",
       "      <th></th>\n",
       "      <th>Age</th>\n",
       "      <th>Spending Score (1-100)</th>\n",
       "      <th>cluster_pred</th>\n",
       "    </tr>\n",
       "  </thead>\n",
       "  <tbody>\n",
       "    <tr>\n",
       "      <th>0</th>\n",
       "      <td>19</td>\n",
       "      <td>39</td>\n",
       "      <td>2</td>\n",
       "    </tr>\n",
       "    <tr>\n",
       "      <th>1</th>\n",
       "      <td>21</td>\n",
       "      <td>81</td>\n",
       "      <td>0</td>\n",
       "    </tr>\n",
       "    <tr>\n",
       "      <th>2</th>\n",
       "      <td>20</td>\n",
       "      <td>6</td>\n",
       "      <td>1</td>\n",
       "    </tr>\n",
       "    <tr>\n",
       "      <th>3</th>\n",
       "      <td>23</td>\n",
       "      <td>77</td>\n",
       "      <td>0</td>\n",
       "    </tr>\n",
       "    <tr>\n",
       "      <th>4</th>\n",
       "      <td>31</td>\n",
       "      <td>40</td>\n",
       "      <td>2</td>\n",
       "    </tr>\n",
       "  </tbody>\n",
       "</table>\n",
       "</div>"
      ],
      "text/plain": [
       "   Age  Spending Score (1-100)  cluster_pred\n",
       "0   19                      39             2\n",
       "1   21                      81             0\n",
       "2   20                       6             1\n",
       "3   23                      77             0\n",
       "4   31                      40             2"
      ]
     },
     "execution_count": 40,
     "metadata": {},
     "output_type": "execute_result"
    }
   ],
   "source": [
    "clusters = x.copy()\n",
    "clusters['cluster_pred']=kmeans.fit_predict(x)\n",
    "\n",
    "clusters.head()"
   ]
  },
  {
   "cell_type": "code",
   "execution_count": 41,
   "metadata": {},
   "outputs": [
    {
     "data": {
      "image/png": "[encoded data removed]",
      "text/plain": [
       "<Figure size 432x288 with 1 Axes>"
      ]
     },
     "metadata": {},
     "output_type": "display_data"
    }
   ],
   "source": [
    "plt.scatter(clusters['Age'],clusters['Spending Score (1-100)'],c=clusters['cluster_pred'],cmap='rainbow')\n",
    "plt.xlabel('Age')\n",
    "plt.ylabel('Spending Score (1-100)')\n",
    "\n",
    "plt.show()"
   ]
  },
  {
   "cell_type": "code",
   "execution_count": 42,
   "metadata": {},
   "outputs": [
    {
     "data": {
      "text/plain": [
       "array([[-1.42456879, -0.43480148],\n",
       "       [-1.28103541,  1.19570407],\n",
       "       [-1.3528021 , -1.71591298],\n",
       "       [-1.13750203,  1.04041783],\n",
       "       [-0.56336851, -0.39597992],\n",
       "       [-1.20926872,  1.00159627],\n",
       "       [-0.27630176, -1.71591298],\n",
       "       [-1.13750203,  1.70038436],\n",
       "       [ 1.80493225, -1.83237767],\n",
       "       [-0.6351352 ,  0.84631002],\n",
       "       [ 2.02023231, -1.4053405 ],\n",
       "       [-0.27630176,  1.89449216],\n",
       "       [ 1.37433211, -1.36651894],\n",
       "       [-1.06573534,  1.04041783],\n",
       "       [-0.13276838, -1.44416206],\n",
       "       [-1.20926872,  1.11806095],\n",
       "       [-0.27630176, -0.59008772],\n",
       "       [-1.3528021 ,  0.61338066],\n",
       "       [ 0.94373197, -0.82301709],\n",
       "       [-0.27630176,  1.8556706 ],\n",
       "       [-0.27630176, -0.59008772],\n",
       "       [-0.99396865,  0.88513158],\n",
       "       [ 0.51313183, -1.75473454],\n",
       "       [-0.56336851,  0.88513158],\n",
       "       [ 1.08726535, -1.4053405 ],\n",
       "       [-0.70690189,  1.23452563],\n",
       "       [ 0.44136514, -0.7065524 ],\n",
       "       [-0.27630176,  0.41927286],\n",
       "       [ 0.08253169, -0.74537397],\n",
       "       [-1.13750203,  1.42863343],\n",
       "       [ 1.51786549, -1.7935561 ],\n",
       "       [-1.28103541,  0.88513158],\n",
       "       [ 1.01549866, -1.7935561 ],\n",
       "       [-1.49633548,  1.62274124],\n",
       "       [ 0.7284319 , -1.4053405 ],\n",
       "       [-1.28103541,  1.19570407],\n",
       "       [ 0.22606507, -1.28887582],\n",
       "       [-0.6351352 ,  0.88513158],\n",
       "       [-0.20453507, -0.93948177],\n",
       "       [-1.3528021 ,  0.96277471],\n",
       "       [ 1.87669894, -0.59008772],\n",
       "       [-1.06573534,  1.62274124],\n",
       "       [ 0.65666521, -0.55126616],\n",
       "       [-0.56336851,  0.41927286],\n",
       "       [ 0.7284319 , -0.86183865],\n",
       "       [-1.06573534,  0.5745591 ],\n",
       "       [ 0.80019859,  0.18634349],\n",
       "       [-0.85043527, -0.12422899],\n",
       "       [-0.70690189, -0.3183368 ],\n",
       "       [-0.56336851, -0.3183368 ],\n",
       "       [ 0.7284319 ,  0.06987881],\n",
       "       [-0.41983513,  0.38045129],\n",
       "       [-0.56336851,  0.14752193],\n",
       "       [ 1.4460988 ,  0.38045129],\n",
       "       [ 0.80019859, -0.20187212],\n",
       "       [ 0.58489852, -0.35715836],\n",
       "       [ 0.87196528, -0.00776431],\n",
       "       [ 2.16376569, -0.16305055],\n",
       "       [-0.85043527,  0.03105725],\n",
       "       [ 1.01549866, -0.16305055],\n",
       "       [ 2.23553238,  0.22516505],\n",
       "       [-1.42456879,  0.18634349],\n",
       "       [ 2.02023231,  0.06987881],\n",
       "       [ 1.08726535,  0.34162973],\n",
       "       [ 1.73316556,  0.03105725],\n",
       "       [-1.49633548,  0.34162973],\n",
       "       [ 0.29783176, -0.00776431],\n",
       "       [ 2.091999  , -0.08540743],\n",
       "       [-1.42456879,  0.34162973],\n",
       "       [-0.49160182, -0.12422899],\n",
       "       [ 2.23553238,  0.18634349],\n",
       "       [ 0.58489852, -0.3183368 ],\n",
       "       [ 1.51786549, -0.04658587],\n",
       "       [ 1.51786549,  0.22516505],\n",
       "       [ 1.4460988 , -0.12422899],\n",
       "       [-0.92220196,  0.14752193],\n",
       "       [ 0.44136514,  0.10870037],\n",
       "       [ 0.08253169, -0.08540743],\n",
       "       [-1.13750203,  0.06987881],\n",
       "       [ 0.7284319 , -0.3183368 ],\n",
       "       [ 1.30256542,  0.03105725],\n",
       "       [-0.06100169,  0.18634349],\n",
       "       [ 2.02023231, -0.35715836],\n",
       "       [ 0.51313183, -0.24069368],\n",
       "       [-1.28103541,  0.26398661],\n",
       "       [ 0.65666521, -0.16305055],\n",
       "       [ 1.15903204,  0.30280817],\n",
       "       [-1.20926872,  0.18634349],\n",
       "       [-0.34806844,  0.38045129],\n",
       "       [ 0.80019859, -0.16305055],\n",
       "       [ 2.091999  ,  0.18634349],\n",
       "       [-1.49633548, -0.35715836],\n",
       "       [ 0.65666521, -0.04658587],\n",
       "       [ 0.08253169, -0.39597992],\n",
       "       [-0.49160182, -0.3183368 ],\n",
       "       [-1.06573534,  0.06987881],\n",
       "       [ 0.58489852, -0.12422899],\n",
       "       [-0.85043527, -0.00776431],\n",
       "       [ 0.65666521, -0.3183368 ],\n",
       "       [-1.3528021 , -0.04658587],\n",
       "       [-1.13750203, -0.35715836],\n",
       "       [ 0.7284319 , -0.08540743],\n",
       "       [ 2.02023231,  0.34162973],\n",
       "       [-0.92220196,  0.18634349],\n",
       "       [ 0.7284319 ,  0.22516505],\n",
       "       [-1.28103541, -0.3183368 ],\n",
       "       [ 1.94846562, -0.00776431],\n",
       "       [ 1.08726535, -0.16305055],\n",
       "       [ 2.091999  , -0.27951524],\n",
       "       [ 1.94846562, -0.08540743],\n",
       "       [ 1.87669894,  0.06987881],\n",
       "       [-1.42456879,  0.14752193],\n",
       "       [-0.06100169, -0.3183368 ],\n",
       "       [-1.42456879, -0.16305055],\n",
       "       [-1.49633548, -0.08540743],\n",
       "       [-1.42456879, -0.00776431],\n",
       "       [ 1.73316556, -0.27951524],\n",
       "       [ 0.7284319 ,  0.34162973],\n",
       "       [ 0.87196528, -0.27951524],\n",
       "       [ 0.80019859,  0.26398661],\n",
       "       [-0.85043527,  0.22516505],\n",
       "       [-0.06100169, -0.39597992],\n",
       "       [ 0.08253169,  0.30280817],\n",
       "       [ 0.010765  ,  1.58391968],\n",
       "       [-1.13750203, -0.82301709],\n",
       "       [-0.56336851,  1.04041783],\n",
       "       [ 0.29783176, -0.59008772],\n",
       "       [ 0.08253169,  1.73920592],\n",
       "       [ 1.4460988 , -1.52180518],\n",
       "       [-0.06100169,  0.96277471],\n",
       "       [ 0.58489852, -1.5994483 ],\n",
       "       [ 0.010765  ,  0.96277471],\n",
       "       [-0.99396865, -0.62890928],\n",
       "       [-0.56336851,  0.80748846],\n",
       "       [-1.3528021 , -1.75473454],\n",
       "       [-0.70690189,  1.46745499],\n",
       "       [ 0.36959845, -1.67709142],\n",
       "       [-0.49160182,  0.88513158],\n",
       "       [-1.42456879, -1.56062674],\n",
       "       [-0.27630176,  0.84631002],\n",
       "       [ 1.30256542, -1.75473454],\n",
       "       [-0.49160182,  1.6615628 ],\n",
       "       [-0.77866858, -0.39597992],\n",
       "       [-0.49160182,  1.42863343],\n",
       "       [-0.99396865, -1.48298362],\n",
       "       [-0.77866858,  1.81684904],\n",
       "       [ 0.65666521, -0.55126616],\n",
       "       [-0.49160182,  0.92395314],\n",
       "       [-0.34806844, -1.09476801],\n",
       "       [-0.34806844,  1.54509812],\n",
       "       [ 0.29783176, -1.28887582],\n",
       "       [ 0.010765  ,  1.46745499],\n",
       "       [ 0.36959845, -1.17241113],\n",
       "       [-0.06100169,  1.00159627],\n",
       "       [ 0.58489852, -1.32769738],\n",
       "       [-0.85043527,  1.50627656],\n",
       "       [-0.13276838, -1.91002079],\n",
       "       [-0.6351352 ,  1.07923939],\n",
       "       [-0.34806844, -1.91002079],\n",
       "       [-0.6351352 ,  0.88513158],\n",
       "       [ 1.23079873, -0.59008772],\n",
       "       [-0.70690189,  1.27334719],\n",
       "       [-1.42456879, -1.75473454],\n",
       "       [-0.56336851,  1.6615628 ],\n",
       "       [ 0.80019859, -0.93948177],\n",
       "       [-0.20453507,  0.96277471],\n",
       "       [ 0.22606507, -1.17241113],\n",
       "       [-0.41983513,  1.73920592],\n",
       "       [-0.20453507, -0.90066021],\n",
       "       [-0.49160182,  0.49691598],\n",
       "       [ 0.08253169, -1.44416206],\n",
       "       [-0.77866858,  0.96277471],\n",
       "       [-0.20453507, -1.56062674],\n",
       "       [-0.20453507,  1.62274124],\n",
       "       [ 0.94373197, -1.44416206],\n",
       "       [-0.6351352 ,  1.38981187],\n",
       "       [ 1.37433211, -1.36651894],\n",
       "       [-0.85043527,  0.72984534],\n",
       "       [ 1.4460988 , -1.4053405 ],\n",
       "       [-0.27630176,  1.54509812],\n",
       "       [-0.13276838, -0.7065524 ],\n",
       "       [-0.49160182,  1.38981187],\n",
       "       [ 0.51313183, -1.36651894],\n",
       "       [-0.70690189,  1.46745499],\n",
       "       [ 0.15429838, -0.43480148],\n",
       "       [-0.6351352 ,  1.81684904],\n",
       "       [ 1.08726535, -1.01712489],\n",
       "       [-0.77866858,  0.69102378],\n",
       "       [ 0.15429838, -1.28887582],\n",
       "       [-0.20453507,  1.35099031],\n",
       "       [-0.34806844, -1.05594645],\n",
       "       [-0.49160182,  0.72984534],\n",
       "       [-0.41983513, -1.63826986],\n",
       "       [-0.06100169,  1.58391968],\n",
       "       [ 0.58489852, -1.32769738],\n",
       "       [-0.27630176,  1.11806095],\n",
       "       [ 0.44136514, -0.86183865],\n",
       "       [-0.49160182,  0.92395314],\n",
       "       [-0.49160182, -1.25005425],\n",
       "       [-0.6351352 ,  1.27334719]])"
      ]
     },
     "execution_count": 42,
     "metadata": {},
     "output_type": "execute_result"
    }
   ],
   "source": [
    "from sklearn import preprocessing\n",
    "x_scaled = preprocessing.scale(x)\n",
    "x_scaled"
   ]
  },
  {
   "cell_type": "code",
   "execution_count": 18,
   "metadata": {},
   "outputs": [
    {
     "data": {
      "text/plain": [
       "[399.99999999999994,\n",
       " 189.3874903399243,\n",
       " 124.32628617921529,\n",
       " 89.76521676586151,\n",
       " 71.09364141459412,\n",
       " 53.128438356294,\n",
       " 46.078929207548754,\n",
       " 39.651008976832436,\n",
       " 33.89482006782994]"
      ]
     },
     "execution_count": 18,
     "metadata": {},
     "output_type": "execute_result"
    }
   ],
   "source": [
    "wcss =[]\n",
    "\n",
    "for i in range(1,10):\n",
    "    kmeans = KMeans(i)\n",
    "    kmeans.fit(x_scaled)\n",
    "    wcss.append(kmeans.inertia_)\n",
    "    \n",
    "wcss"
   ]
  },
  {
   "cell_type": "code",
   "execution_count": 19,
   "metadata": {},
   "outputs": [
    {
     "data": {
      "text/plain": [
       "Text(0,0.5,'WCSS')"
      ]
     },
     "execution_count": 19,
     "metadata": {},
     "output_type": "execute_result"
    },
    {
     "data": {
      "image/png": "[encoded data removed]",
      "text/plain": [
       "<Figure size 432x288 with 1 Axes>"
      ]
     },
     "metadata": {},
     "output_type": "display_data"
    }
   ],
   "source": [
    "plt.plot(range(1,10),wcss)\n",
    "plt.xlabel('Number of clusters')\n",
    "plt.ylabel('WCSS')"
   ]
  },
  {
   "cell_type": "code",
   "execution_count": null,
   "metadata": {},
   "outputs": [],
   "source": []
  }
 ],
 "metadata": {
  "kernelspec": {
   "display_name": "Python 3",
   "language": "python",
   "name": "python3"
  },
  "language_info": {
   "codemirror_mode": {
    "name": "ipython",
    "version": 3
   },
   "file_extension": ".py",
   "mimetype": "text/x-python",
   "name": "python",
   "nbconvert_exporter": "python",
   "pygments_lexer": "ipython3",
   "version": "3.6.6rc1"
  }
 },
 "nbformat": 4,
 "nbformat_minor": 2
}
